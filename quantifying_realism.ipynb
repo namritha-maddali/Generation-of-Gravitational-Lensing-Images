{
 "cells": [
  {
   "cell_type": "code",
   "execution_count": 12,
   "metadata": {
    "execution": {
     "iopub.execute_input": "2025-03-29T06:14:12.510225Z",
     "iopub.status.busy": "2025-03-29T06:14:12.509910Z",
     "iopub.status.idle": "2025-03-29T06:14:12.515618Z",
     "shell.execute_reply": "2025-03-29T06:14:12.514773Z",
     "shell.execute_reply.started": "2025-03-29T06:14:12.510201Z"
    },
    "trusted": true
   },
   "outputs": [
    {
     "data": {
      "text/plain": [
       "device(type='cuda')"
      ]
     },
     "execution_count": 12,
     "metadata": {},
     "output_type": "execute_result"
    }
   ],
   "source": [
    "import torch\n",
    "import torch.optim as optim\n",
    "device = torch.device(\"cuda\" if torch.cuda.is_available() else \"cpu\")\n",
    "device"
   ]
  },
  {
   "cell_type": "markdown",
   "metadata": {},
   "source": [
    "## **Generating new data using the trained model**"
   ]
  },
  {
   "cell_type": "code",
   "execution_count": null,
   "metadata": {
    "trusted": true
   },
   "outputs": [],
   "source": [
    "!pip install denoising_diffusion_pytorch"
   ]
  },
  {
   "cell_type": "code",
   "execution_count": 25,
   "metadata": {
    "execution": {
     "iopub.execute_input": "2025-03-29T06:32:10.036211Z",
     "iopub.status.busy": "2025-03-29T06:32:10.035856Z",
     "iopub.status.idle": "2025-03-29T06:32:10.039873Z",
     "shell.execute_reply": "2025-03-29T06:32:10.038921Z",
     "shell.execute_reply.started": "2025-03-29T06:32:10.036180Z"
    },
    "trusted": true
   },
   "outputs": [],
   "source": [
    "import torch\n",
    "from tqdm import tqdm\n",
    "from denoising_diffusion_pytorch import Unet, GaussianDiffusion"
   ]
  },
  {
   "cell_type": "code",
   "execution_count": 15,
   "metadata": {
    "execution": {
     "iopub.execute_input": "2025-03-29T06:15:06.052625Z",
     "iopub.status.busy": "2025-03-29T06:15:06.052322Z",
     "iopub.status.idle": "2025-03-29T06:15:06.057922Z",
     "shell.execute_reply": "2025-03-29T06:15:06.056996Z",
     "shell.execute_reply.started": "2025-03-29T06:15:06.052602Z"
    },
    "trusted": true
   },
   "outputs": [],
   "source": [
    "import torchvision.utils as utils \n",
    "import matplotlib.pyplot as plt\n",
    "\n",
    "def visualize_samples(model, bts=4):\n",
    "    model.eval()\n",
    "    with torch.no_grad():\n",
    "        samples = diffusion.sample(batch_size=bts).cpu()\n",
    "\n",
    "    # (C, H, W) to (H, W, C) for matlab\n",
    "    grid_img = utils.make_grid(samples, nrow=2, normalize=True)\n",
    "    grid_img = grid_img.permute(1, 2, 0).numpy()\n",
    "\n",
    "    plt.figure(figsize=(8, 8))\n",
    "    plt.imshow(grid_img)\n",
    "    plt.axis(\"off\")\n",
    "    plt.title(f\"Generated Image\")\n",
    "    plt.show()"
   ]
  },
  {
   "cell_type": "code",
   "execution_count": 5,
   "metadata": {
    "execution": {
     "iopub.execute_input": "2025-03-29T06:11:27.014861Z",
     "iopub.status.busy": "2025-03-29T06:11:27.014531Z",
     "iopub.status.idle": "2025-03-29T06:11:27.562920Z",
     "shell.execute_reply": "2025-03-29T06:11:27.562291Z",
     "shell.execute_reply.started": "2025-03-29T06:11:27.014833Z"
    },
    "trusted": true
   },
   "outputs": [
    {
     "name": "stdout",
     "output_type": "stream",
     "text": [
      "Non-A100 GPU detected, using math or mem efficient attention if input tensor is on cuda\n"
     ]
    }
   ],
   "source": [
    "model = Unet(\n",
    "    dim = 64,\n",
    "    dim_mults = (1, 2, 4, 8),\n",
    "    channels = 1,\n",
    "    flash_attn = True\n",
    ")"
   ]
  },
  {
   "cell_type": "code",
   "execution_count": 6,
   "metadata": {
    "_cell_guid": "b1076dfc-b9ad-4769-8c92-a6c4dae69d19",
    "_uuid": "8f2839f25d086af736a60e9eeb907d3b93b6e0e5",
    "collapsed": true,
    "execution": {
     "iopub.execute_input": "2025-03-29T06:11:40.364894Z",
     "iopub.status.busy": "2025-03-29T06:11:40.364589Z",
     "iopub.status.idle": "2025-03-29T06:11:42.596780Z",
     "shell.execute_reply": "2025-03-29T06:11:42.596048Z",
     "shell.execute_reply.started": "2025-03-29T06:11:40.364871Z"
    },
    "jupyter": {
     "outputs_hidden": true
    },
    "trusted": true
   },
   "outputs": [
    {
     "data": {
      "text/plain": [
       "Unet(\n",
       "  (init_conv): Conv2d(1, 64, kernel_size=(7, 7), stride=(1, 1), padding=(3, 3))\n",
       "  (time_mlp): Sequential(\n",
       "    (0): SinusoidalPosEmb()\n",
       "    (1): Linear(in_features=64, out_features=256, bias=True)\n",
       "    (2): GELU(approximate='none')\n",
       "    (3): Linear(in_features=256, out_features=256, bias=True)\n",
       "  )\n",
       "  (downs): ModuleList(\n",
       "    (0): ModuleList(\n",
       "      (0-1): 2 x ResnetBlock(\n",
       "        (mlp): Sequential(\n",
       "          (0): SiLU()\n",
       "          (1): Linear(in_features=256, out_features=128, bias=True)\n",
       "        )\n",
       "        (block1): Block(\n",
       "          (proj): Conv2d(64, 64, kernel_size=(3, 3), stride=(1, 1), padding=(1, 1))\n",
       "          (norm): RMSNorm()\n",
       "          (act): SiLU()\n",
       "          (dropout): Dropout(p=0.0, inplace=False)\n",
       "        )\n",
       "        (block2): Block(\n",
       "          (proj): Conv2d(64, 64, kernel_size=(3, 3), stride=(1, 1), padding=(1, 1))\n",
       "          (norm): RMSNorm()\n",
       "          (act): SiLU()\n",
       "          (dropout): Dropout(p=0.0, inplace=False)\n",
       "        )\n",
       "        (res_conv): Identity()\n",
       "      )\n",
       "      (2): LinearAttention(\n",
       "        (norm): RMSNorm()\n",
       "        (to_qkv): Conv2d(64, 384, kernel_size=(1, 1), stride=(1, 1), bias=False)\n",
       "        (to_out): Sequential(\n",
       "          (0): Conv2d(128, 64, kernel_size=(1, 1), stride=(1, 1))\n",
       "          (1): RMSNorm()\n",
       "        )\n",
       "      )\n",
       "      (3): Sequential(\n",
       "        (0): Rearrange('b c (h p1) (w p2) -> b (c p1 p2) h w', p1=2, p2=2)\n",
       "        (1): Conv2d(256, 64, kernel_size=(1, 1), stride=(1, 1))\n",
       "      )\n",
       "    )\n",
       "    (1): ModuleList(\n",
       "      (0-1): 2 x ResnetBlock(\n",
       "        (mlp): Sequential(\n",
       "          (0): SiLU()\n",
       "          (1): Linear(in_features=256, out_features=128, bias=True)\n",
       "        )\n",
       "        (block1): Block(\n",
       "          (proj): Conv2d(64, 64, kernel_size=(3, 3), stride=(1, 1), padding=(1, 1))\n",
       "          (norm): RMSNorm()\n",
       "          (act): SiLU()\n",
       "          (dropout): Dropout(p=0.0, inplace=False)\n",
       "        )\n",
       "        (block2): Block(\n",
       "          (proj): Conv2d(64, 64, kernel_size=(3, 3), stride=(1, 1), padding=(1, 1))\n",
       "          (norm): RMSNorm()\n",
       "          (act): SiLU()\n",
       "          (dropout): Dropout(p=0.0, inplace=False)\n",
       "        )\n",
       "        (res_conv): Identity()\n",
       "      )\n",
       "      (2): LinearAttention(\n",
       "        (norm): RMSNorm()\n",
       "        (to_qkv): Conv2d(64, 384, kernel_size=(1, 1), stride=(1, 1), bias=False)\n",
       "        (to_out): Sequential(\n",
       "          (0): Conv2d(128, 64, kernel_size=(1, 1), stride=(1, 1))\n",
       "          (1): RMSNorm()\n",
       "        )\n",
       "      )\n",
       "      (3): Sequential(\n",
       "        (0): Rearrange('b c (h p1) (w p2) -> b (c p1 p2) h w', p1=2, p2=2)\n",
       "        (1): Conv2d(256, 128, kernel_size=(1, 1), stride=(1, 1))\n",
       "      )\n",
       "    )\n",
       "    (2): ModuleList(\n",
       "      (0-1): 2 x ResnetBlock(\n",
       "        (mlp): Sequential(\n",
       "          (0): SiLU()\n",
       "          (1): Linear(in_features=256, out_features=256, bias=True)\n",
       "        )\n",
       "        (block1): Block(\n",
       "          (proj): Conv2d(128, 128, kernel_size=(3, 3), stride=(1, 1), padding=(1, 1))\n",
       "          (norm): RMSNorm()\n",
       "          (act): SiLU()\n",
       "          (dropout): Dropout(p=0.0, inplace=False)\n",
       "        )\n",
       "        (block2): Block(\n",
       "          (proj): Conv2d(128, 128, kernel_size=(3, 3), stride=(1, 1), padding=(1, 1))\n",
       "          (norm): RMSNorm()\n",
       "          (act): SiLU()\n",
       "          (dropout): Dropout(p=0.0, inplace=False)\n",
       "        )\n",
       "        (res_conv): Identity()\n",
       "      )\n",
       "      (2): LinearAttention(\n",
       "        (norm): RMSNorm()\n",
       "        (to_qkv): Conv2d(128, 384, kernel_size=(1, 1), stride=(1, 1), bias=False)\n",
       "        (to_out): Sequential(\n",
       "          (0): Conv2d(128, 128, kernel_size=(1, 1), stride=(1, 1))\n",
       "          (1): RMSNorm()\n",
       "        )\n",
       "      )\n",
       "      (3): Sequential(\n",
       "        (0): Rearrange('b c (h p1) (w p2) -> b (c p1 p2) h w', p1=2, p2=2)\n",
       "        (1): Conv2d(512, 256, kernel_size=(1, 1), stride=(1, 1))\n",
       "      )\n",
       "    )\n",
       "    (3): ModuleList(\n",
       "      (0-1): 2 x ResnetBlock(\n",
       "        (mlp): Sequential(\n",
       "          (0): SiLU()\n",
       "          (1): Linear(in_features=256, out_features=512, bias=True)\n",
       "        )\n",
       "        (block1): Block(\n",
       "          (proj): Conv2d(256, 256, kernel_size=(3, 3), stride=(1, 1), padding=(1, 1))\n",
       "          (norm): RMSNorm()\n",
       "          (act): SiLU()\n",
       "          (dropout): Dropout(p=0.0, inplace=False)\n",
       "        )\n",
       "        (block2): Block(\n",
       "          (proj): Conv2d(256, 256, kernel_size=(3, 3), stride=(1, 1), padding=(1, 1))\n",
       "          (norm): RMSNorm()\n",
       "          (act): SiLU()\n",
       "          (dropout): Dropout(p=0.0, inplace=False)\n",
       "        )\n",
       "        (res_conv): Identity()\n",
       "      )\n",
       "      (2): Attention(\n",
       "        (norm): RMSNorm()\n",
       "        (attend): Attend(\n",
       "          (attn_dropout): Dropout(p=0.0, inplace=False)\n",
       "        )\n",
       "        (to_qkv): Conv2d(256, 384, kernel_size=(1, 1), stride=(1, 1), bias=False)\n",
       "        (to_out): Conv2d(128, 256, kernel_size=(1, 1), stride=(1, 1))\n",
       "      )\n",
       "      (3): Conv2d(256, 512, kernel_size=(3, 3), stride=(1, 1), padding=(1, 1))\n",
       "    )\n",
       "  )\n",
       "  (ups): ModuleList(\n",
       "    (0): ModuleList(\n",
       "      (0-1): 2 x ResnetBlock(\n",
       "        (mlp): Sequential(\n",
       "          (0): SiLU()\n",
       "          (1): Linear(in_features=256, out_features=1024, bias=True)\n",
       "        )\n",
       "        (block1): Block(\n",
       "          (proj): Conv2d(768, 512, kernel_size=(3, 3), stride=(1, 1), padding=(1, 1))\n",
       "          (norm): RMSNorm()\n",
       "          (act): SiLU()\n",
       "          (dropout): Dropout(p=0.0, inplace=False)\n",
       "        )\n",
       "        (block2): Block(\n",
       "          (proj): Conv2d(512, 512, kernel_size=(3, 3), stride=(1, 1), padding=(1, 1))\n",
       "          (norm): RMSNorm()\n",
       "          (act): SiLU()\n",
       "          (dropout): Dropout(p=0.0, inplace=False)\n",
       "        )\n",
       "        (res_conv): Conv2d(768, 512, kernel_size=(1, 1), stride=(1, 1))\n",
       "      )\n",
       "      (2): Attention(\n",
       "        (norm): RMSNorm()\n",
       "        (attend): Attend(\n",
       "          (attn_dropout): Dropout(p=0.0, inplace=False)\n",
       "        )\n",
       "        (to_qkv): Conv2d(512, 384, kernel_size=(1, 1), stride=(1, 1), bias=False)\n",
       "        (to_out): Conv2d(128, 512, kernel_size=(1, 1), stride=(1, 1))\n",
       "      )\n",
       "      (3): Sequential(\n",
       "        (0): Upsample(scale_factor=2.0, mode='nearest')\n",
       "        (1): Conv2d(512, 256, kernel_size=(3, 3), stride=(1, 1), padding=(1, 1))\n",
       "      )\n",
       "    )\n",
       "    (1): ModuleList(\n",
       "      (0-1): 2 x ResnetBlock(\n",
       "        (mlp): Sequential(\n",
       "          (0): SiLU()\n",
       "          (1): Linear(in_features=256, out_features=512, bias=True)\n",
       "        )\n",
       "        (block1): Block(\n",
       "          (proj): Conv2d(384, 256, kernel_size=(3, 3), stride=(1, 1), padding=(1, 1))\n",
       "          (norm): RMSNorm()\n",
       "          (act): SiLU()\n",
       "          (dropout): Dropout(p=0.0, inplace=False)\n",
       "        )\n",
       "        (block2): Block(\n",
       "          (proj): Conv2d(256, 256, kernel_size=(3, 3), stride=(1, 1), padding=(1, 1))\n",
       "          (norm): RMSNorm()\n",
       "          (act): SiLU()\n",
       "          (dropout): Dropout(p=0.0, inplace=False)\n",
       "        )\n",
       "        (res_conv): Conv2d(384, 256, kernel_size=(1, 1), stride=(1, 1))\n",
       "      )\n",
       "      (2): LinearAttention(\n",
       "        (norm): RMSNorm()\n",
       "        (to_qkv): Conv2d(256, 384, kernel_size=(1, 1), stride=(1, 1), bias=False)\n",
       "        (to_out): Sequential(\n",
       "          (0): Conv2d(128, 256, kernel_size=(1, 1), stride=(1, 1))\n",
       "          (1): RMSNorm()\n",
       "        )\n",
       "      )\n",
       "      (3): Sequential(\n",
       "        (0): Upsample(scale_factor=2.0, mode='nearest')\n",
       "        (1): Conv2d(256, 128, kernel_size=(3, 3), stride=(1, 1), padding=(1, 1))\n",
       "      )\n",
       "    )\n",
       "    (2): ModuleList(\n",
       "      (0-1): 2 x ResnetBlock(\n",
       "        (mlp): Sequential(\n",
       "          (0): SiLU()\n",
       "          (1): Linear(in_features=256, out_features=256, bias=True)\n",
       "        )\n",
       "        (block1): Block(\n",
       "          (proj): Conv2d(192, 128, kernel_size=(3, 3), stride=(1, 1), padding=(1, 1))\n",
       "          (norm): RMSNorm()\n",
       "          (act): SiLU()\n",
       "          (dropout): Dropout(p=0.0, inplace=False)\n",
       "        )\n",
       "        (block2): Block(\n",
       "          (proj): Conv2d(128, 128, kernel_size=(3, 3), stride=(1, 1), padding=(1, 1))\n",
       "          (norm): RMSNorm()\n",
       "          (act): SiLU()\n",
       "          (dropout): Dropout(p=0.0, inplace=False)\n",
       "        )\n",
       "        (res_conv): Conv2d(192, 128, kernel_size=(1, 1), stride=(1, 1))\n",
       "      )\n",
       "      (2): LinearAttention(\n",
       "        (norm): RMSNorm()\n",
       "        (to_qkv): Conv2d(128, 384, kernel_size=(1, 1), stride=(1, 1), bias=False)\n",
       "        (to_out): Sequential(\n",
       "          (0): Conv2d(128, 128, kernel_size=(1, 1), stride=(1, 1))\n",
       "          (1): RMSNorm()\n",
       "        )\n",
       "      )\n",
       "      (3): Sequential(\n",
       "        (0): Upsample(scale_factor=2.0, mode='nearest')\n",
       "        (1): Conv2d(128, 64, kernel_size=(3, 3), stride=(1, 1), padding=(1, 1))\n",
       "      )\n",
       "    )\n",
       "    (3): ModuleList(\n",
       "      (0-1): 2 x ResnetBlock(\n",
       "        (mlp): Sequential(\n",
       "          (0): SiLU()\n",
       "          (1): Linear(in_features=256, out_features=128, bias=True)\n",
       "        )\n",
       "        (block1): Block(\n",
       "          (proj): Conv2d(128, 64, kernel_size=(3, 3), stride=(1, 1), padding=(1, 1))\n",
       "          (norm): RMSNorm()\n",
       "          (act): SiLU()\n",
       "          (dropout): Dropout(p=0.0, inplace=False)\n",
       "        )\n",
       "        (block2): Block(\n",
       "          (proj): Conv2d(64, 64, kernel_size=(3, 3), stride=(1, 1), padding=(1, 1))\n",
       "          (norm): RMSNorm()\n",
       "          (act): SiLU()\n",
       "          (dropout): Dropout(p=0.0, inplace=False)\n",
       "        )\n",
       "        (res_conv): Conv2d(128, 64, kernel_size=(1, 1), stride=(1, 1))\n",
       "      )\n",
       "      (2): LinearAttention(\n",
       "        (norm): RMSNorm()\n",
       "        (to_qkv): Conv2d(64, 384, kernel_size=(1, 1), stride=(1, 1), bias=False)\n",
       "        (to_out): Sequential(\n",
       "          (0): Conv2d(128, 64, kernel_size=(1, 1), stride=(1, 1))\n",
       "          (1): RMSNorm()\n",
       "        )\n",
       "      )\n",
       "      (3): Conv2d(64, 64, kernel_size=(3, 3), stride=(1, 1), padding=(1, 1))\n",
       "    )\n",
       "  )\n",
       "  (mid_block1): ResnetBlock(\n",
       "    (mlp): Sequential(\n",
       "      (0): SiLU()\n",
       "      (1): Linear(in_features=256, out_features=1024, bias=True)\n",
       "    )\n",
       "    (block1): Block(\n",
       "      (proj): Conv2d(512, 512, kernel_size=(3, 3), stride=(1, 1), padding=(1, 1))\n",
       "      (norm): RMSNorm()\n",
       "      (act): SiLU()\n",
       "      (dropout): Dropout(p=0.0, inplace=False)\n",
       "    )\n",
       "    (block2): Block(\n",
       "      (proj): Conv2d(512, 512, kernel_size=(3, 3), stride=(1, 1), padding=(1, 1))\n",
       "      (norm): RMSNorm()\n",
       "      (act): SiLU()\n",
       "      (dropout): Dropout(p=0.0, inplace=False)\n",
       "    )\n",
       "    (res_conv): Identity()\n",
       "  )\n",
       "  (mid_attn): Attention(\n",
       "    (norm): RMSNorm()\n",
       "    (attend): Attend(\n",
       "      (attn_dropout): Dropout(p=0.0, inplace=False)\n",
       "    )\n",
       "    (to_qkv): Conv2d(512, 384, kernel_size=(1, 1), stride=(1, 1), bias=False)\n",
       "    (to_out): Conv2d(128, 512, kernel_size=(1, 1), stride=(1, 1))\n",
       "  )\n",
       "  (mid_block2): ResnetBlock(\n",
       "    (mlp): Sequential(\n",
       "      (0): SiLU()\n",
       "      (1): Linear(in_features=256, out_features=1024, bias=True)\n",
       "    )\n",
       "    (block1): Block(\n",
       "      (proj): Conv2d(512, 512, kernel_size=(3, 3), stride=(1, 1), padding=(1, 1))\n",
       "      (norm): RMSNorm()\n",
       "      (act): SiLU()\n",
       "      (dropout): Dropout(p=0.0, inplace=False)\n",
       "    )\n",
       "    (block2): Block(\n",
       "      (proj): Conv2d(512, 512, kernel_size=(3, 3), stride=(1, 1), padding=(1, 1))\n",
       "      (norm): RMSNorm()\n",
       "      (act): SiLU()\n",
       "      (dropout): Dropout(p=0.0, inplace=False)\n",
       "    )\n",
       "    (res_conv): Identity()\n",
       "  )\n",
       "  (final_res_block): ResnetBlock(\n",
       "    (mlp): Sequential(\n",
       "      (0): SiLU()\n",
       "      (1): Linear(in_features=256, out_features=128, bias=True)\n",
       "    )\n",
       "    (block1): Block(\n",
       "      (proj): Conv2d(128, 64, kernel_size=(3, 3), stride=(1, 1), padding=(1, 1))\n",
       "      (norm): RMSNorm()\n",
       "      (act): SiLU()\n",
       "      (dropout): Dropout(p=0.0, inplace=False)\n",
       "    )\n",
       "    (block2): Block(\n",
       "      (proj): Conv2d(64, 64, kernel_size=(3, 3), stride=(1, 1), padding=(1, 1))\n",
       "      (norm): RMSNorm()\n",
       "      (act): SiLU()\n",
       "      (dropout): Dropout(p=0.0, inplace=False)\n",
       "    )\n",
       "    (res_conv): Conv2d(128, 64, kernel_size=(1, 1), stride=(1, 1))\n",
       "  )\n",
       "  (final_conv): Conv2d(64, 1, kernel_size=(1, 1), stride=(1, 1))\n",
       ")"
      ]
     },
     "execution_count": 6,
     "metadata": {},
     "output_type": "execute_result"
    }
   ],
   "source": [
    "model.load_state_dict(torch.load('/kaggle/input/diffusion-model/pytorch/default/1/diffusion_model.pth', weights_only=True))\n",
    "model.eval()"
   ]
  },
  {
   "cell_type": "code",
   "execution_count": 19,
   "metadata": {
    "execution": {
     "iopub.execute_input": "2025-03-29T06:26:52.631015Z",
     "iopub.status.busy": "2025-03-29T06:26:52.630708Z",
     "iopub.status.idle": "2025-03-29T06:26:52.639767Z",
     "shell.execute_reply": "2025-03-29T06:26:52.639037Z",
     "shell.execute_reply.started": "2025-03-29T06:26:52.630992Z"
    },
    "trusted": true
   },
   "outputs": [],
   "source": [
    "diffusion = GaussianDiffusion(\n",
    "    model,\n",
    "    image_size = 128,\n",
    "    timesteps = 250    # number of steps\n",
    ")\n",
    "diffusion = diffusion.to(device)"
   ]
  },
  {
   "cell_type": "code",
   "execution_count": 20,
   "metadata": {
    "execution": {
     "iopub.execute_input": "2025-03-29T06:26:53.499186Z",
     "iopub.status.busy": "2025-03-29T06:26:53.498835Z",
     "iopub.status.idle": "2025-03-29T06:27:01.680451Z",
     "shell.execute_reply": "2025-03-29T06:27:01.679608Z",
     "shell.execute_reply.started": "2025-03-29T06:26:53.499157Z"
    },
    "trusted": true
   },
   "outputs": [
    {
     "data": {
      "application/vnd.jupyter.widget-view+json": {
       "model_id": "db1afc1de3fb4239be60e85a3be8c848",
       "version_major": 2,
       "version_minor": 0
      },
      "text/plain": [
       "sampling loop time step:   0%|          | 0/250 [00:00<?, ?it/s]"
      ]
     },
     "metadata": {},
     "output_type": "display_data"
    },
    {
     "data": {
      "image/png": "[encoded data removed]",
      "text/plain": [
       "<Figure size 800x800 with 1 Axes>"
      ]
     },
     "metadata": {},
     "output_type": "display_data"
    }
   ],
   "source": [
    "visualize_samples(model, 2) # it works!!"
   ]
  },
  {
   "cell_type": "code",
   "execution_count": 22,
   "metadata": {
    "execution": {
     "iopub.execute_input": "2025-03-29T06:29:00.511930Z",
     "iopub.status.busy": "2025-03-29T06:29:00.511615Z",
     "iopub.status.idle": "2025-03-29T06:29:00.516044Z",
     "shell.execute_reply": "2025-03-29T06:29:00.515175Z",
     "shell.execute_reply.started": "2025-03-29T06:29:00.511903Z"
    },
    "trusted": true
   },
   "outputs": [],
   "source": [
    "import os\n",
    "output_dir = \"/kaggle/working/generated\"\n",
    "os.makedirs(output_dir, exist_ok=True)"
   ]
  },
  {
   "cell_type": "code",
   "execution_count": 24,
   "metadata": {
    "execution": {
     "iopub.execute_input": "2025-03-29T06:31:53.728345Z",
     "iopub.status.busy": "2025-03-29T06:31:53.727959Z",
     "iopub.status.idle": "2025-03-29T06:31:53.732068Z",
     "shell.execute_reply": "2025-03-29T06:31:53.731137Z",
     "shell.execute_reply.started": "2025-03-29T06:31:53.728313Z"
    },
    "trusted": true
   },
   "outputs": [],
   "source": [
    "total = 10000 # as there are 10k images in the dataset\n",
    "bts = 128 # batch size"
   ]
  },
  {
   "cell_type": "code",
   "execution_count": null,
   "metadata": {
    "trusted": true
   },
   "outputs": [],
   "source": [
    "for i in tqdm(range(0, total, bts)):\n",
    "    with torch.no_grad():\n",
    "        generated_images = diffusion.sample(batch_size=bts)\n",
    "        \n",
    "    for j, img in enumerate(generated_images):\n",
    "        utils.save_image(img, os.path.join(output_dir, f\"image_{i+j}.png\"), normalize=True)\n",
    "\n",
    "print(\"images saved!\")"
   ]
  },
  {
   "cell_type": "code",
   "execution_count": 41,
   "metadata": {
    "execution": {
     "iopub.execute_input": "2025-03-29T13:23:43.402263Z",
     "iopub.status.busy": "2025-03-29T13:23:43.401943Z",
     "iopub.status.idle": "2025-03-29T13:23:43.411861Z",
     "shell.execute_reply": "2025-03-29T13:23:43.411158Z",
     "shell.execute_reply.started": "2025-03-29T13:23:43.402236Z"
    },
    "trusted": true
   },
   "outputs": [
    {
     "data": {
      "text/plain": [
       "10112"
      ]
     },
     "execution_count": 41,
     "metadata": {},
     "output_type": "execute_result"
    }
   ],
   "source": [
    "import os\n",
    "len(os.listdir('/kaggle/working/generated'))"
   ]
  },
  {
   "cell_type": "markdown",
   "metadata": {},
   "source": [
    "## **Loading the real and generated data into pytorch dataloaders**"
   ]
  },
  {
   "cell_type": "code",
   "execution_count": 42,
   "metadata": {
    "execution": {
     "iopub.execute_input": "2025-03-29T13:23:51.507977Z",
     "iopub.status.busy": "2025-03-29T13:23:51.507705Z",
     "iopub.status.idle": "2025-03-29T13:23:51.511452Z",
     "shell.execute_reply": "2025-03-29T13:23:51.510547Z",
     "shell.execute_reply.started": "2025-03-29T13:23:51.507956Z"
    },
    "trusted": true
   },
   "outputs": [],
   "source": [
    "real = '/kaggle/input/diffusion-data/Samples'\n",
    "generated = '/kaggle/working/generated'"
   ]
  },
  {
   "cell_type": "code",
   "execution_count": 50,
   "metadata": {
    "execution": {
     "iopub.execute_input": "2025-03-29T13:31:58.538428Z",
     "iopub.status.busy": "2025-03-29T13:31:58.537930Z",
     "iopub.status.idle": "2025-03-29T13:31:58.543935Z",
     "shell.execute_reply": "2025-03-29T13:31:58.542855Z",
     "shell.execute_reply.started": "2025-03-29T13:31:58.538384Z"
    },
    "trusted": true
   },
   "outputs": [],
   "source": [
    "from torch.utils.data import Dataset, DataLoader\n",
    "from torchvision.datasets import ImageFolder\n",
    "import torchvision.transforms.functional as TF\n",
    "from PIL import Image\n",
    "import numpy as np"
   ]
  },
  {
   "cell_type": "code",
   "execution_count": 142,
   "metadata": {
    "execution": {
     "iopub.execute_input": "2025-03-29T14:39:31.404226Z",
     "iopub.status.busy": "2025-03-29T14:39:31.403896Z",
     "iopub.status.idle": "2025-03-29T14:39:31.410638Z",
     "shell.execute_reply": "2025-03-29T14:39:31.409560Z",
     "shell.execute_reply.started": "2025-03-29T14:39:31.404204Z"
    },
    "trusted": true
   },
   "outputs": [],
   "source": [
    "class GetDataset(Dataset):\n",
    "    def __init__(self, folder_path, img_size=128):  # converting images to 128x128 due to limitations on compute\n",
    "        '''\n",
    "            Input:\n",
    "                folder_path - location of the training images \n",
    "                img_size - size to which the image must be converted to\n",
    "        '''\n",
    "        self.img_size = img_size\n",
    "        self.folder_path = folder_path\n",
    "        self.files = [f for f in os.listdir(folder_path)][:10000]\n",
    "        \n",
    "    def __getitem__(self, index):\n",
    "        '''\n",
    "            Input:\n",
    "                index - index of the image in the files list\n",
    "\n",
    "            Output:\n",
    "                img - resized image tensor\n",
    "        '''\n",
    "\n",
    "        file = os.path.join(self.folder_path, self.files[index])\n",
    "\n",
    "        if file.endswith('.png'):\n",
    "            img = Image.open(file).convert(\"L\") # extract images as grayscale\n",
    "            img = np.array(img, dtype=np.float32) / 255 \n",
    "            img = torch.from_numpy(img).unsqueeze(0)\n",
    "            \n",
    "        elif file.endswith('.npy'):\n",
    "            img = np.load(file).astype(np.float32)\n",
    "            img = torch.from_numpy(img)\n",
    "               \n",
    "        img = TF.resize(img, (self.img_size, self.img_size), antialias=True)\n",
    "        return img\n",
    "    \n",
    "    def __len__(self):  # number of images available in the dataset\n",
    "        return len(self.files)"
   ]
  },
  {
   "cell_type": "code",
   "execution_count": 143,
   "metadata": {
    "execution": {
     "iopub.execute_input": "2025-03-29T14:39:32.618393Z",
     "iopub.status.busy": "2025-03-29T14:39:32.618057Z",
     "iopub.status.idle": "2025-03-29T14:39:32.633325Z",
     "shell.execute_reply": "2025-03-29T14:39:32.632596Z",
     "shell.execute_reply.started": "2025-03-29T14:39:32.618368Z"
    },
    "trusted": true
   },
   "outputs": [
    {
     "data": {
      "text/plain": [
       "<torch.utils.data.dataloader.DataLoader at 0x7a0208199840>"
      ]
     },
     "execution_count": 143,
     "metadata": {},
     "output_type": "execute_result"
    }
   ],
   "source": [
    "real_data = GetDataset(real)\n",
    "real_loader = DataLoader(real_data, batch_size=64, shuffle=True)\n",
    "real_loader"
   ]
  },
  {
   "cell_type": "code",
   "execution_count": 150,
   "metadata": {
    "execution": {
     "iopub.execute_input": "2025-03-29T14:40:09.040737Z",
     "iopub.status.busy": "2025-03-29T14:40:09.040429Z",
     "iopub.status.idle": "2025-03-29T14:40:09.635481Z",
     "shell.execute_reply": "2025-03-29T14:40:09.634653Z",
     "shell.execute_reply.started": "2025-03-29T14:40:09.040715Z"
    },
    "trusted": true
   },
   "outputs": [
    {
     "name": "stdout",
     "output_type": "stream",
     "text": [
      "torch.Size([64, 1, 128, 128])\n"
     ]
    }
   ],
   "source": [
    "# to check the size of each tensor in the dataset\n",
    "for batch in real_loader:\n",
    "    print(batch.shape)\n",
    "    break"
   ]
  },
  {
   "cell_type": "code",
   "execution_count": 145,
   "metadata": {
    "execution": {
     "iopub.execute_input": "2025-03-29T14:39:34.345219Z",
     "iopub.status.busy": "2025-03-29T14:39:34.344882Z",
     "iopub.status.idle": "2025-03-29T14:39:34.354815Z",
     "shell.execute_reply": "2025-03-29T14:39:34.354158Z",
     "shell.execute_reply.started": "2025-03-29T14:39:34.345193Z"
    },
    "trusted": true
   },
   "outputs": [],
   "source": [
    "generated_data = GetDataset(generated)\n",
    "generated_loader = DataLoader(generated_data, batch_size=64, shuffle=False)"
   ]
  },
  {
   "cell_type": "code",
   "execution_count": 146,
   "metadata": {
    "execution": {
     "iopub.execute_input": "2025-03-29T14:39:35.179411Z",
     "iopub.status.busy": "2025-03-29T14:39:35.179113Z",
     "iopub.status.idle": "2025-03-29T14:39:35.226993Z",
     "shell.execute_reply": "2025-03-29T14:39:35.226274Z",
     "shell.execute_reply.started": "2025-03-29T14:39:35.179378Z"
    },
    "trusted": true
   },
   "outputs": [
    {
     "name": "stdout",
     "output_type": "stream",
     "text": [
      "torch.Size([64, 1, 128, 128])\n"
     ]
    }
   ],
   "source": [
    "# to check the size of each tensor in the dataset\n",
    "for batch in generated_loader:\n",
    "    first_image = batch[0]\n",
    "    print(batch.shape)\n",
    "    break"
   ]
  },
  {
   "cell_type": "code",
   "execution_count": 147,
   "metadata": {
    "execution": {
     "iopub.execute_input": "2025-03-29T14:39:35.504028Z",
     "iopub.status.busy": "2025-03-29T14:39:35.503751Z",
     "iopub.status.idle": "2025-03-29T14:39:35.599461Z",
     "shell.execute_reply": "2025-03-29T14:39:35.598650Z",
     "shell.execute_reply.started": "2025-03-29T14:39:35.504006Z"
    },
    "trusted": true
   },
   "outputs": [
    {
     "data": {
      "text/plain": [
       "(-0.5, 127.5, 127.5, -0.5)"
      ]
     },
     "execution_count": 147,
     "metadata": {},
     "output_type": "execute_result"
    },
    {
     "data": {
      "image/png": "[encoded data removed]",
      "text/plain": [
       "<Figure size 640x480 with 1 Axes>"
      ]
     },
     "metadata": {},
     "output_type": "display_data"
    }
   ],
   "source": [
    "first_image = first_image.permute(1, 2, 0)\n",
    "plt.imshow(first_image.numpy(), cmap=\"gray\" if first_image.shape[-1] == 1 else None)\n",
    "plt.axis(\"off\")"
   ]
  },
  {
   "cell_type": "code",
   "execution_count": 148,
   "metadata": {
    "execution": {
     "iopub.execute_input": "2025-03-29T14:39:37.621852Z",
     "iopub.status.busy": "2025-03-29T14:39:37.621557Z",
     "iopub.status.idle": "2025-03-29T14:39:37.627470Z",
     "shell.execute_reply": "2025-03-29T14:39:37.626535Z",
     "shell.execute_reply.started": "2025-03-29T14:39:37.621831Z"
    },
    "trusted": true
   },
   "outputs": [
    {
     "data": {
      "text/plain": [
       "(0.0, 1.0)"
      ]
     },
     "execution_count": 148,
     "metadata": {},
     "output_type": "execute_result"
    }
   ],
   "source": [
    "np.min(first_image.numpy()),np.max(first_image.numpy())"
   ]
  },
  {
   "cell_type": "markdown",
   "metadata": {},
   "source": [
    "## **Comparison Metrics**"
   ]
  },
  {
   "cell_type": "code",
   "execution_count": null,
   "metadata": {
    "trusted": true
   },
   "outputs": [],
   "source": [
    "!pip install pytorch-ignite"
   ]
  },
  {
   "cell_type": "markdown",
   "metadata": {},
   "source": [
    "reference: https://github.com/mseitzer/pytorch-fid and https://pytorch-ignite.ai/blog/gan-evaluation-with-fid-and-is/"
   ]
  },
  {
   "cell_type": "code",
   "execution_count": 212,
   "metadata": {
    "execution": {
     "iopub.execute_input": "2025-03-29T15:53:19.270268Z",
     "iopub.status.busy": "2025-03-29T15:53:19.269925Z",
     "iopub.status.idle": "2025-03-29T15:53:19.273748Z",
     "shell.execute_reply": "2025-03-29T15:53:19.272891Z",
     "shell.execute_reply.started": "2025-03-29T15:53:19.270243Z"
    },
    "trusted": true
   },
   "outputs": [],
   "source": [
    "import torch\n",
    "import torch.nn as nn\n",
    "from ignite.metrics import FID\n",
    "from ignite.metrics import Precision, Recall\n",
    "from ignite.engine import Engine\n",
    "from tqdm import tqdm"
   ]
  },
  {
   "cell_type": "code",
   "execution_count": 109,
   "metadata": {
    "execution": {
     "iopub.execute_input": "2025-03-29T13:58:17.405495Z",
     "iopub.status.busy": "2025-03-29T13:58:17.405201Z",
     "iopub.status.idle": "2025-03-29T13:58:17.410991Z",
     "shell.execute_reply": "2025-03-29T13:58:17.410119Z",
     "shell.execute_reply.started": "2025-03-29T13:58:17.405473Z"
    },
    "trusted": true
   },
   "outputs": [
    {
     "data": {
      "text/plain": [
       "device(type='cuda')"
      ]
     },
     "execution_count": 109,
     "metadata": {},
     "output_type": "execute_result"
    }
   ],
   "source": [
    "device = torch.device(\"cuda\" if torch.cuda.is_available() else \"cpu\")\n",
    "device"
   ]
  },
  {
   "cell_type": "code",
   "execution_count": 211,
   "metadata": {
    "execution": {
     "iopub.execute_input": "2025-03-29T15:52:53.570844Z",
     "iopub.status.busy": "2025-03-29T15:52:53.570513Z",
     "iopub.status.idle": "2025-03-29T15:52:53.574462Z",
     "shell.execute_reply": "2025-03-29T15:52:53.573668Z",
     "shell.execute_reply.started": "2025-03-29T15:52:53.570819Z"
    },
    "trusted": true
   },
   "outputs": [],
   "source": [
    "def eval_step(engine, batch):\n",
    "    generated_images, real_images = batch\n",
    "    return generated_images.to(device), real_images.to(device)\n",
    "    \n",
    "evaluator = Engine(eval_step)"
   ]
  },
  {
   "cell_type": "markdown",
   "metadata": {},
   "source": [
    "### **Fréchet Inception Distance (FID)**"
   ]
  },
  {
   "cell_type": "markdown",
   "metadata": {},
   "source": [
    "Using ResNet model (from common task) for feature extraction hence the fully connected layer is removed"
   ]
  },
  {
   "cell_type": "code",
   "execution_count": 117,
   "metadata": {
    "execution": {
     "iopub.execute_input": "2025-03-29T14:14:27.549347Z",
     "iopub.status.busy": "2025-03-29T14:14:27.549015Z",
     "iopub.status.idle": "2025-03-29T14:14:27.557450Z",
     "shell.execute_reply": "2025-03-29T14:14:27.556617Z",
     "shell.execute_reply.started": "2025-03-29T14:14:27.549323Z"
    },
    "trusted": true
   },
   "outputs": [],
   "source": [
    "class ResNet(nn.Module):\n",
    "    def __init__(self, block, layers):\n",
    "        '''\n",
    "            Input:\n",
    "                block - residual block class\n",
    "                layers - number of residual blocks in each of the four layers\n",
    "        '''\n",
    "        super(ResNet, self).__init__()\n",
    "        self.inplanes = 64\n",
    "\n",
    "        # initial layer\n",
    "        self.conv1 = nn.Sequential(\n",
    "            nn.Conv2d(1, 64, kernel_size=7, stride=2, padding=3),\n",
    "            nn.BatchNorm2d(64),\n",
    "            nn.ReLU()\n",
    "        )\n",
    "        self.maxpool = nn.MaxPool2d(kernel_size=3, stride=2, padding=1)\n",
    "\n",
    "        # layers of residual blocks\n",
    "        self.layer0 = self._make_layer(block, 64, layers[0], stride=1)\n",
    "        self.layer1 = self._make_layer(block, 128, layers[1], stride=2)\n",
    "        self.layer2 = self._make_layer(block, 256, layers[2], stride=2)\n",
    "        self.layer3 = self._make_layer(block, 512, layers[3], stride=2)\n",
    "        self.avgpool = nn.AdaptiveAvgPool2d(1)\n",
    "\n",
    "    def _make_layer(self, block, planes, blocks, stride=1):\n",
    "        '''\n",
    "            Input:\n",
    "                block - residual block class\n",
    "                planes - number of output channels of the layer (number of filters)\n",
    "                blocks - number of residual blocks in the layer\n",
    "                stride - to control downsampling\n",
    "\n",
    "            Output:\n",
    "                all blocks are combined into an nn.Sequential module\n",
    "        '''\n",
    "        downsample = None\n",
    "        if stride != 1 or self.inplanes != planes:\n",
    "            downsample = nn.Sequential(\n",
    "                nn.Conv2d(self.inplanes, planes, kernel_size=1, stride=stride, bias=False),\n",
    "                nn.BatchNorm2d(planes),\n",
    "            )\n",
    "\n",
    "        layers = [block(self.inplanes, planes, stride, downsample)]\n",
    "        self.inplanes = planes\n",
    "        for i in range(1, blocks):\n",
    "            layers.append(block(self.inplanes, planes))\n",
    "\n",
    "        return nn.Sequential(*layers)\n",
    "\n",
    "    def forward(self, x):\n",
    "        '''\n",
    "            Input:\n",
    "                x - image tensor with (batch size, channels, height, width)\n",
    "\n",
    "            Output:\n",
    "                x - (batch size, number of output classes), raw logit values\n",
    "        '''\n",
    "        x = self.conv1(x)\n",
    "        x = self.maxpool(x)\n",
    "        x = self.layer0(x)\n",
    "        x = self.layer1(x)\n",
    "        x = self.layer2(x)\n",
    "        x = self.layer3(x)\n",
    "        x = self.avgpool(x)\n",
    "        x = torch.flatten(x, 1)\n",
    "        return x     # 512 dimensional vector"
   ]
  },
  {
   "cell_type": "code",
   "execution_count": 118,
   "metadata": {
    "execution": {
     "iopub.execute_input": "2025-03-29T14:14:27.818640Z",
     "iopub.status.busy": "2025-03-29T14:14:27.818425Z",
     "iopub.status.idle": "2025-03-29T14:14:27.824377Z",
     "shell.execute_reply": "2025-03-29T14:14:27.823488Z",
     "shell.execute_reply.started": "2025-03-29T14:14:27.818622Z"
    },
    "trusted": true
   },
   "outputs": [],
   "source": [
    "class ResidualBlock(nn.Module):\n",
    "        def __init__(self, in_channels, out_channels, stride = 1, downsample = None):\n",
    "            '''\n",
    "                Input:\n",
    "                    in_channels - number of input channels\n",
    "                    out_channels - number of output channels\n",
    "                    stride - controls downsampling, for the first convolution\n",
    "                    downsample - downsampling layer to match dimenstions for skip connection\n",
    "            '''\n",
    "\n",
    "            super(ResidualBlock, self).__init__()\n",
    "            self.conv1 = nn.Sequential(\n",
    "                            nn.Conv2d(in_channels, out_channels, kernel_size = 3, stride = stride, padding = 1, bias=False),\n",
    "                            nn.BatchNorm2d(out_channels),\n",
    "                            nn.ReLU(inplace=True))\n",
    "            self.conv2 = nn.Sequential(\n",
    "                            nn.Conv2d(out_channels, out_channels, kernel_size = 3, stride = 1, padding = 1, bias=False),\n",
    "                            nn.BatchNorm2d(out_channels))\n",
    "            self.downsample = downsample\n",
    "            self.relu = nn.ReLU(inplace=True)\n",
    "            self.out_channels = out_channels\n",
    "\n",
    "        def forward(self, x):\n",
    "            '''\n",
    "                Input:\n",
    "                    x - image tensor with (batch size, input channels, height, width)\n",
    "\n",
    "                Output:\n",
    "                    x - (batch size, output channels, new height, new width) \n",
    "            '''\n",
    "            residual = x\n",
    "            out = self.conv1(x)\n",
    "            out = self.conv2(out)\n",
    "            if self.downsample:\n",
    "                residual = self.downsample(x)\n",
    "            out += residual\n",
    "            return self.relu(out)"
   ]
  },
  {
   "cell_type": "code",
   "execution_count": null,
   "metadata": {
    "trusted": true
   },
   "outputs": [],
   "source": [
    "feature_extractor = ResNet(ResidualBlock, [2, 2, 2, 2]).to(device)\n",
    "feature_extractor.eval()"
   ]
  },
  {
   "cell_type": "code",
   "execution_count": null,
   "metadata": {
    "execution": {
     "iopub.execute_input": "2025-03-29T14:19:01.171915Z",
     "iopub.status.busy": "2025-03-29T14:19:01.171592Z",
     "iopub.status.idle": "2025-03-29T14:19:01.178375Z",
     "shell.execute_reply": "2025-03-29T14:19:01.177475Z",
     "shell.execute_reply.started": "2025-03-29T14:19:01.171893Z"
    },
    "trusted": true
   },
   "outputs": [],
   "source": [
    "fid_metric = FID(num_features=512, feature_extractor=feature_extractor, device=device)\n",
    "# number of features from the resnet model is 512"
   ]
  },
  {
   "cell_type": "code",
   "execution_count": 168,
   "metadata": {
    "execution": {
     "iopub.execute_input": "2025-03-29T15:01:23.761360Z",
     "iopub.status.busy": "2025-03-29T15:01:23.761049Z",
     "iopub.status.idle": "2025-03-29T15:01:23.764803Z",
     "shell.execute_reply": "2025-03-29T15:01:23.763954Z",
     "shell.execute_reply.started": "2025-03-29T15:01:23.761339Z"
    },
    "trusted": true
   },
   "outputs": [],
   "source": [
    "fid_metric.attach(evaluator, \"fid\")"
   ]
  },
  {
   "cell_type": "code",
   "execution_count": null,
   "metadata": {
    "execution": {
     "iopub.execute_input": "2025-03-29T15:01:30.856645Z",
     "iopub.status.busy": "2025-03-29T15:01:30.856308Z",
     "iopub.status.idle": "2025-03-29T15:01:57.841954Z",
     "shell.execute_reply": "2025-03-29T15:01:57.841161Z",
     "shell.execute_reply.started": "2025-03-29T15:01:30.856616Z"
    },
    "trusted": true
   },
   "outputs": [
    {
     "data": {
      "text/plain": [
       "State:\n",
       "\titeration: 157\n",
       "\tepoch: 1\n",
       "\tepoch_length: 157\n",
       "\tmax_epochs: 1\n",
       "\toutput: <class 'NoneType'>\n",
       "\tbatch: <class 'NoneType'>\n",
       "\tmetrics: <class 'dict'>\n",
       "\tdataloader: <class 'zip'>\n",
       "\tseed: <class 'NoneType'>\n",
       "\ttimes: <class 'dict'>"
      ]
     },
     "execution_count": 170,
     "metadata": {},
     "output_type": "execute_result"
    }
   ],
   "source": [
    "evaluator.run(zip(generated_loader, real_loader))"
   ]
  },
  {
   "cell_type": "code",
   "execution_count": 171,
   "metadata": {
    "execution": {
     "iopub.execute_input": "2025-03-29T15:01:57.843299Z",
     "iopub.status.busy": "2025-03-29T15:01:57.843009Z",
     "iopub.status.idle": "2025-03-29T15:01:57.847717Z",
     "shell.execute_reply": "2025-03-29T15:01:57.846888Z",
     "shell.execute_reply.started": "2025-03-29T15:01:57.843276Z"
    },
    "trusted": true
   },
   "outputs": [
    {
     "name": "stdout",
     "output_type": "stream",
     "text": [
      "FID Score: 0.0009522687934785418\n"
     ]
    }
   ],
   "source": [
    "fid_score = evaluator.state.metrics[\"fid\"]\n",
    "print(\"FID Score:\", fid_score)"
   ]
  },
  {
   "cell_type": "markdown",
   "metadata": {},
   "source": [
    "### **Renyi Kernel Entropy**\n",
    "\n",
    "https://github.com/mjalali/renyi-kernel-entropy"
   ]
  },
  {
   "cell_type": "code",
   "execution_count": null,
   "metadata": {
    "trusted": true
   },
   "outputs": [],
   "source": [
    "!pip install rke-score"
   ]
  },
  {
   "cell_type": "code",
   "execution_count": 228,
   "metadata": {
    "execution": {
     "iopub.execute_input": "2025-03-29T16:19:23.487353Z",
     "iopub.status.busy": "2025-03-29T16:19:23.487041Z",
     "iopub.status.idle": "2025-03-29T16:19:23.494266Z",
     "shell.execute_reply": "2025-03-29T16:19:23.493647Z",
     "shell.execute_reply.started": "2025-03-29T16:19:23.487330Z"
    },
    "trusted": true
   },
   "outputs": [],
   "source": [
    "from rke_score import RKE"
   ]
  },
  {
   "cell_type": "code",
   "execution_count": 225,
   "metadata": {
    "execution": {
     "iopub.execute_input": "2025-03-29T16:18:02.570976Z",
     "iopub.status.busy": "2025-03-29T16:18:02.570649Z",
     "iopub.status.idle": "2025-03-29T16:18:02.575197Z",
     "shell.execute_reply": "2025-03-29T16:18:02.574208Z",
     "shell.execute_reply.started": "2025-03-29T16:18:02.570948Z"
    },
    "trusted": true
   },
   "outputs": [],
   "source": [
    "def extract_features(dataloader, model):\n",
    "    features = []\n",
    "    model.to(device)\n",
    "    \n",
    "    with torch.no_grad():\n",
    "        for images in dataloader: \n",
    "            images = images.to(device)\n",
    "            feature_vectors = model(images)\n",
    "            features.append(feature_vectors.cpu().numpy())\n",
    "    return np.vstack(features)  "
   ]
  },
  {
   "cell_type": "code",
   "execution_count": 226,
   "metadata": {
    "execution": {
     "iopub.execute_input": "2025-03-29T16:18:03.717245Z",
     "iopub.status.busy": "2025-03-29T16:18:03.716909Z",
     "iopub.status.idle": "2025-03-29T16:18:33.964880Z",
     "shell.execute_reply": "2025-03-29T16:18:33.963928Z",
     "shell.execute_reply.started": "2025-03-29T16:18:03.717217Z"
    },
    "trusted": true
   },
   "outputs": [],
   "source": [
    "real_features = extract_features(real_loader, feature_extractor)\n",
    "generated_features = extract_features(generated_loader, feature_extractor)"
   ]
  },
  {
   "cell_type": "code",
   "execution_count": null,
   "metadata": {
    "trusted": true
   },
   "outputs": [],
   "source": [
    "kernel = RKE(kernel_bandwidth=[0.2, 0.3, 0.4])"
   ]
  },
  {
   "cell_type": "code",
   "execution_count": 230,
   "metadata": {
    "execution": {
     "iopub.execute_input": "2025-03-29T16:19:31.301635Z",
     "iopub.status.busy": "2025-03-29T16:19:31.301336Z",
     "iopub.status.idle": "2025-03-29T16:20:39.490502Z",
     "shell.execute_reply": "2025-03-29T16:20:39.489693Z",
     "shell.execute_reply.started": "2025-03-29T16:19:31.301611Z"
    },
    "trusted": true
   },
   "outputs": [
    {
     "name": "stdout",
     "output_type": "stream",
     "text": [
      "{0.2: 1.0261691817562502, 0.3: 1.0116372548484103, 0.4: 1.0065493815757378}\n",
      "{0.2: 0.025132607651035647, 0.3: 0.0113372504605527, 0.4: 0.0064108677585926815}\n"
     ]
    }
   ],
   "source": [
    "print(kernel.compute_rke_mc(generated_features))\n",
    "print(kernel.compute_rrke(real_features, generated_features))"
   ]
  },
  {
   "cell_type": "markdown",
   "metadata": {},
   "source": [
    "RKE or Renyi Kernel Entropy values for the generated features is close to 1 so there is high entropy\n",
    "\n",
    "RRKE or Renyi Kernel Entropy between the real and generated features is very small, showing that they are fairly similar, and as the bandwidth increases the entropy reduces"
   ]
  },
  {
   "cell_type": "markdown",
   "metadata": {},
   "source": []
  }
 ],
 "metadata": {
  "kaggle": {
   "accelerator": "gpu",
   "dataSources": [
    {
     "datasetId": 6994678,
     "sourceId": 11202821,
     "sourceType": "datasetVersion"
    },
    {
     "isSourceIdPinned": true,
     "modelId": 282605,
     "modelInstanceId": 261456,
     "sourceId": 306610,
     "sourceType": "modelInstanceVersion"
    }
   ],
   "dockerImageVersionId": 30919,
   "isGpuEnabled": true,
   "isInternetEnabled": true,
   "language": "python",
   "sourceType": "notebook"
  },
  "kernelspec": {
   "display_name": "Python 3",
   "language": "python",
   "name": "python3"
  },
  "language_info": {
   "codemirror_mode": {
    "name": "ipython",
    "version": 3
   },
   "file_extension": ".py",
   "mimetype": "text/x-python",
   "name": "python",
   "nbconvert_exporter": "python",
   "pygments_lexer": "ipython3",
   "version": "3.10.12"
  }
 },
 "nbformat": 4,
 "nbformat_minor": 4
}
